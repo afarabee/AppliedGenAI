{
 "cells": [
  {
   "cell_type": "code",
   "execution_count": 1,
   "id": "9fa1691a-ee37-4c30-bd2d-602443bc41b7",
   "metadata": {},
   "outputs": [
    {
     "name": "stdout",
     "output_type": "stream",
     "text": [
      "No previous expense file found. Starting fresh!\n",
      "\n"
     ]
    },
    {
     "name": "stdin",
     "output_type": "stream",
     "text": [
      "Enter your monthly budget:  500\n"
     ]
    },
    {
     "name": "stdout",
     "output_type": "stream",
     "text": [
      "Expense Tracker Menu:\n",
      "1. Add expense\n",
      "2. View expenses\n",
      "3. Track budget\n",
      "4. Save expenses\n",
      "5. Exit\n",
      "\n"
     ]
    },
    {
     "name": "stdin",
     "output_type": "stream",
     "text": [
      "Choose an option (1-5):  1\n",
      "Enter the expense date (YYYY-MM-DD):  2022-09-25\n",
      "Enter the category:  Travel\n",
      "Enter the amount:  230\n",
      "Enter a brief description:  the beach\n"
     ]
    },
    {
     "name": "stdout",
     "output_type": "stream",
     "text": [
      "Expense added successfully!\n",
      "\n",
      "Expense Tracker Menu:\n",
      "1. Add expense\n",
      "2. View expenses\n",
      "3. Track budget\n",
      "4. Save expenses\n",
      "5. Exit\n",
      "\n"
     ]
    },
    {
     "name": "stdin",
     "output_type": "stream",
     "text": [
      "Choose an option (1-5):  1\n",
      "Enter the expense date (YYYY-MM-DD):  2044-88-02\n",
      "Enter the category:  Food\n",
      "Enter the amount:  600\n",
      "Enter a brief description:  food\n"
     ]
    },
    {
     "name": "stdout",
     "output_type": "stream",
     "text": [
      "Expense added successfully!\n",
      "\n",
      "Expense Tracker Menu:\n",
      "1. Add expense\n",
      "2. View expenses\n",
      "3. Track budget\n",
      "4. Save expenses\n",
      "5. Exit\n",
      "\n"
     ]
    },
    {
     "name": "stdin",
     "output_type": "stream",
     "text": [
      "Choose an option (1-5):  2\n"
     ]
    },
    {
     "name": "stdout",
     "output_type": "stream",
     "text": [
      "\n",
      "All Expenses:\n",
      "1. 2022-09-25 | Travel | $230.00 | the beach\n",
      "2. 2044-88-02 | Food | $600.00 | food\n",
      "\n",
      "Expense Tracker Menu:\n",
      "1. Add expense\n",
      "2. View expenses\n",
      "3. Track budget\n",
      "4. Save expenses\n",
      "5. Exit\n",
      "\n"
     ]
    },
    {
     "name": "stdin",
     "output_type": "stream",
     "text": [
      "Choose an option (1-5):  2\n"
     ]
    },
    {
     "name": "stdout",
     "output_type": "stream",
     "text": [
      "\n",
      "All Expenses:\n",
      "1. 2022-09-25 | Travel | $230.00 | the beach\n",
      "2. 2044-88-02 | Food | $600.00 | food\n",
      "\n",
      "Expense Tracker Menu:\n",
      "1. Add expense\n",
      "2. View expenses\n",
      "3. Track budget\n",
      "4. Save expenses\n",
      "5. Exit\n",
      "\n"
     ]
    },
    {
     "name": "stdin",
     "output_type": "stream",
     "text": [
      "Choose an option (1-5):  3\n"
     ]
    },
    {
     "name": "stdout",
     "output_type": "stream",
     "text": [
      "Total spent: $830.00\n",
      "Warning: You have exceeded your monthly budget by $330.00!\n",
      "\n",
      "Expense Tracker Menu:\n",
      "1. Add expense\n",
      "2. View expenses\n",
      "3. Track budget\n",
      "4. Save expenses\n",
      "5. Exit\n",
      "\n"
     ]
    },
    {
     "name": "stdin",
     "output_type": "stream",
     "text": [
      "Choose an option (1-5):  4\n"
     ]
    },
    {
     "name": "stdout",
     "output_type": "stream",
     "text": [
      "Expenses saved to expenses.csv!\n",
      "\n",
      "Expense Tracker Menu:\n",
      "1. Add expense\n",
      "2. View expenses\n",
      "3. Track budget\n",
      "4. Save expenses\n",
      "5. Exit\n",
      "\n"
     ]
    },
    {
     "name": "stdin",
     "output_type": "stream",
     "text": [
      "Choose an option (1-5):  5\n"
     ]
    },
    {
     "name": "stdout",
     "output_type": "stream",
     "text": [
      "Expenses saved to expenses.csv!\n",
      "\n",
      "Goodbye!\n"
     ]
    }
   ],
   "source": [
    "import csv\n",
    "\n",
    "# 1. define the functions\n",
    "\n",
    "def add_expense(expenses):\n",
    "    date = input(\"Enter the expense date (YYYY-MM-DD): \")\n",
    "    category = input(\"Enter the category: \")\n",
    "    amount = float(input(\"Enter the amount: \"))\n",
    "    description = input(\"Enter a brief description: \")\n",
    "    expense = {\n",
    "        \"date\": date,\n",
    "        \"category\": category,\n",
    "        \"amount\": amount,\n",
    "        \"description\": description\n",
    "    }\n",
    "    expenses.append(expense)\n",
    "    print(\"Expense added successfully!\\n\")\n",
    "\n",
    "def view_expenses(expenses):\n",
    "    if not expenses:\n",
    "        print(\"No expenses to show.\\n\")\n",
    "        return\n",
    "    print(\"\\nAll Expenses:\")\n",
    "    for i, expense in enumerate(expenses, 1):\n",
    "        print(f\"{i}. {expense['date']} | {expense['category']} | ${expense['amount']:.2f} | {expense['description']}\")\n",
    "    print()\n",
    "\n",
    "def get_total_expenses(expenses):\n",
    "    total = 0\n",
    "    for expense in expenses:\n",
    "        amt = expense.get(\"amount\")\n",
    "        if isinstance(amt, (int, float)) and amt is not None:\n",
    "            total += amt\n",
    "    return total\n",
    "\n",
    "def check_budget_status(budget, total_expenses):\n",
    "    if total_expenses > budget:\n",
    "        print(f\"Warning: You have exceeded your monthly budget by ${total_expenses - budget:.2f}!\\n\")\n",
    "    else:\n",
    "        print(f\"You have ${budget - total_expenses:.2f} left for the month.\\n\")\n",
    "\n",
    "def save_expenses_to_csv(expenses, filename=\"expenses.csv\"):\n",
    "    fieldnames = [\"date\", \"category\", \"amount\", \"description\"]\n",
    "    with open(filename, \"w\", newline='') as csvfile:\n",
    "        writer = csv.DictWriter(csvfile, fieldnames=fieldnames)\n",
    "        writer.writeheader()\n",
    "        for expense in expenses:\n",
    "            writer.writerow(expense)\n",
    "    print(f\"Expenses saved to {filename}!\\n\")\n",
    "\n",
    "def load_expenses_from_csv(filename=\"expenses.csv\"):\n",
    "    expenses = []\n",
    "    try:\n",
    "        with open(filename, \"r\", newline='') as csvfile:\n",
    "            reader = csv.DictReader(csvfile)\n",
    "            for row in reader:\n",
    "                row[\"amount\"] = float(row[\"amount\"])\n",
    "                expenses.append(row)\n",
    "        print(f\"Loaded {len(expenses)} expenses from {filename}.\\n\")\n",
    "    except FileNotFoundError:\n",
    "        print(\"No previous expense file found. Starting with sample data!\\n\")\n",
    "    return expenses\n",
    "\n",
    "def display_menu():\n",
    "    print(\"Expense Tracker Menu:\")\n",
    "    print(\"1. Add expense\")\n",
    "    print(\"2. View expenses\")\n",
    "    print(\"3. Track budget\")\n",
    "    print(\"4. Save expenses\")\n",
    "    print(\"5. Exit\\n\")\n",
    "\n",
    "# 2. Data Setup \n",
    "\n",
    "expenses = [\n",
    "    # valid entries\n",
    "    {\"date\": \"2024-09-18\", \"category\": \"Food\", \"amount\": 15.50, \"description\": \"Lunch with friends\"},\n",
    "    {\"date\": \"2024-09-19\", \"category\": \"Travel\", \"amount\": 50.00, \"description\": \"Uber ride\"},\n",
    "    {\"date\": \"2024-09-20\", \"category\": \"Insurance\", \"amount\": 120.00, \"description\": \"Car insurance payment\"},\n",
    "]\n",
    "\n",
    "# Optional: If you want to load from CSV instead, uncomment this line:\n",
    "# expenses = load_expenses_from_csv()\n",
    "\n",
    "# 3. Get budget at start\n",
    "while True:\n",
    "    try:\n",
    "        budget = float(input(\"Enter your monthly budget: \"))\n",
    "        break\n",
    "    except ValueError:\n",
    "        print(\"Please enter a valid number for the budget.\")\n",
    "\n",
    "# 4. Main Menu Loop\n",
    "\n",
    "while True:\n",
    "    display_menu()\n",
    "    choice = input(\"Choose an option (1-5): \").strip()\n",
    "\n",
    "    if choice == \"1\":\n",
    "        add_expense(expenses)\n",
    "    elif choice == \"2\":\n",
    "        view_expenses(expenses)\n",
    "    elif choice == \"3\":\n",
    "        total_spent = get_total_expenses(expenses)\n",
    "        print(f\"Total spent: ${total_spent:.2f}\")\n",
    "        check_budget_status(budget, total_spent)\n",
    "    elif choice == \"4\":\n",
    "        save_expenses_to_csv(expenses)\n",
    "    elif choice == \"5\":\n",
    "        save_expenses_to_csv(expenses)\n",
    "        print(\"Goodbye!\")\n",
    "        break\n",
    "    else:\n",
    "        print(\"Invalid option. Please choose a number from 1 to 5.\\n\")\n"
   ]
  },
  {
   "cell_type": "code",
   "execution_count": 5,
   "id": "e8db85a5-cff4-469a-8b7a-e339de4e314b",
   "metadata": {},
   "outputs": [
    {
     "name": "stdin",
     "output_type": "stream",
     "text": [
      "Enter your monthly budget:  1\n"
     ]
    },
    {
     "name": "stdout",
     "output_type": "stream",
     "text": [
      "Expense Tracker Menu:\n",
      "1. Add expense\n",
      "2. View expenses\n",
      "3. Track budget\n",
      "4. Save expenses\n",
      "5. Exit\n",
      "\n"
     ]
    },
    {
     "name": "stdin",
     "output_type": "stream",
     "text": [
      "Choose an option (1-5):  1\n",
      "Enter the expense date (YYYY-MM-DD):  1\n",
      "Enter the category:  1\n",
      "Enter the amount:  1\n",
      "Enter a brief description:  1\n"
     ]
    },
    {
     "name": "stdout",
     "output_type": "stream",
     "text": [
      "Expense added successfully!\n",
      "\n",
      "Expense Tracker Menu:\n",
      "1. Add expense\n",
      "2. View expenses\n",
      "3. Track budget\n",
      "4. Save expenses\n",
      "5. Exit\n",
      "\n"
     ]
    },
    {
     "name": "stdin",
     "output_type": "stream",
     "text": [
      "Choose an option (1-5):  5\n"
     ]
    },
    {
     "name": "stdout",
     "output_type": "stream",
     "text": [
      "Expenses saved to expenses.csv!\n",
      "\n",
      "Goodbye!\n"
     ]
    }
   ],
   "source": [
    "#Full program w/ sample data\n",
    "import csv\n",
    "\n",
    "# 1. Function Definitions\n",
    "\n",
    "def add_expense(expenses):\n",
    "    date = input(\"Enter the expense date (YYYY-MM-DD): \")\n",
    "    category = input(\"Enter the category: \")\n",
    "    amount = float(input(\"Enter the amount: \"))\n",
    "    description = input(\"Enter a brief description: \")\n",
    "    expense = {\n",
    "        \"date\": date,\n",
    "        \"category\": category,\n",
    "        \"amount\": amount,\n",
    "        \"description\": description\n",
    "    }\n",
    "    expenses.append(expense)\n",
    "    print(\"Expense added successfully!\\n\")\n",
    "\n",
    "def view_expenses(expenses):\n",
    "    if not expenses:\n",
    "        print(\"No expenses to show.\\n\")\n",
    "        return\n",
    "    print(\"\\nAll Expenses:\")\n",
    "    for i, expense in enumerate(expenses, 1):\n",
    "        print(f\"{i}. {expense['date']} | {expense['category']} | ${expense['amount']:.2f} | {expense['description']}\")\n",
    "    print()\n",
    "\n",
    "def get_total_expenses(expenses):\n",
    "    total = 0\n",
    "    for expense in expenses:\n",
    "        amt = expense.get(\"amount\")\n",
    "        if isinstance(amt, (int, float)) and amt is not None:\n",
    "            total += amt\n",
    "    return total\n",
    "\n",
    "def check_budget_status(budget, total_expenses):\n",
    "    if total_expenses > budget:\n",
    "        print(f\"Warning: You have exceeded your monthly budget by ${total_expenses - budget:.2f}!\\n\")\n",
    "    else:\n",
    "        print(f\"You have ${budget - total_expenses:.2f} left for the month.\\n\")\n",
    "\n",
    "def save_expenses_to_csv(expenses, filename=\"expenses.csv\"):\n",
    "    fieldnames = [\"date\", \"category\", \"amount\", \"description\"]\n",
    "    with open(filename, \"w\", newline='') as csvfile:\n",
    "        writer = csv.DictWriter(csvfile, fieldnames=fieldnames)\n",
    "        writer.writeheader()\n",
    "        for expense in expenses:\n",
    "            writer.writerow(expense)\n",
    "    print(f\"Expenses saved to {filename}!\\n\")\n",
    "\n",
    "def load_expenses_from_csv(filename=\"expenses.csv\"):\n",
    "    expenses = []\n",
    "    try:\n",
    "        with open(filename, \"r\", newline='') as csvfile:\n",
    "            reader = csv.DictReader(csvfile)\n",
    "            for row in reader:\n",
    "                row[\"amount\"] = float(row[\"amount\"])\n",
    "                expenses.append(row)\n",
    "        print(f\"Loaded {len(expenses)} expenses from {filename}.\\n\")\n",
    "    except FileNotFoundError:\n",
    "        print(\"No previous expense file found. Starting with sample data!\\n\")\n",
    "    return expenses\n",
    "\n",
    "def display_menu():\n",
    "    print(\"Expense Tracker Menu:\")\n",
    "    print(\"1. Add expense\")\n",
    "    print(\"2. View expenses\")\n",
    "    print(\"3. Track budget\")\n",
    "    print(\"4. Save expenses\")\n",
    "    print(\"5. Exit\\n\")\n",
    "\n",
    "# 2. Data Setup (pre-loaded test data)\n",
    "\n",
    "expenses = [\n",
    "    # valid entries\n",
    "    {\"date\": \"2024-09-18\", \"category\": \"Food\", \"amount\": 15.50, \"description\": \"Lunch with friends\"},\n",
    "    {\"date\": \"2024-09-19\", \"category\": \"Travel\", \"amount\": 50.00, \"description\": \"Uber ride\"},\n",
    "    {\"date\": \"2024-09-20\", \"category\": \"Insurance\", \"amount\": 120.00, \"description\": \"Car insurance payment\"},\n",
    "]\n",
    "\n",
    "# 3. Get budget\n",
    "while True:\n",
    "    try:\n",
    "        budget = float(input(\"Enter your monthly budget: \"))\n",
    "        break\n",
    "    except ValueError:\n",
    "        print(\"Please enter a valid number for the budget.\")\n",
    "\n",
    "# 4. Main Menu Loop\n",
    "\n",
    "while True:\n",
    "    display_menu()\n",
    "    choice = input(\"Choose an option (1-5): \").strip()\n",
    "\n",
    "    if choice == \"1\":\n",
    "        add_expense(expenses)\n",
    "    elif choice == \"2\":\n",
    "        view_expenses(expenses)\n",
    "    elif choice == \"3\":\n",
    "        total_spent = get_total_expenses(expenses)\n",
    "        print(f\"Total spent: ${total_spent:.2f}\")\n",
    "        check_budget_status(budget, total_spent)\n",
    "    elif choice == \"4\":\n",
    "        save_expenses_to_csv(expenses)\n",
    "    elif choice == \"5\":\n",
    "        save_expenses_to_csv(expenses)\n",
    "        print(\"Goodbye!\")\n",
    "        break\n",
    "    else:\n",
    "        print(\"Invalid option. Please choose a number from 1 to 5.\\n\")"
   ]
  },
  {
   "cell_type": "code",
   "execution_count": 7,
   "id": "9691ddbc-f53d-4803-86d5-6a54b1cf995f",
   "metadata": {},
   "outputs": [
    {
     "name": "stdout",
     "output_type": "stream",
     "text": [
      "Loaded 4 expenses from expenses.csv.\n",
      "\n"
     ]
    },
    {
     "name": "stdin",
     "output_type": "stream",
     "text": [
      "Enter your monthly budget:  200\n"
     ]
    },
    {
     "name": "stdout",
     "output_type": "stream",
     "text": [
      "Expense Tracker Menu:\n",
      "1. Add expense\n",
      "2. View expenses\n",
      "3. Track budget\n",
      "4. Save expenses\n",
      "5. Exit\n",
      "\n"
     ]
    },
    {
     "name": "stdin",
     "output_type": "stream",
     "text": [
      "Choose an option (1-5):  1\n",
      "Enter the expense date (YYYY-MM-DD):  9023\n",
      "Enter the category:  t\n",
      "Enter the amount:  f\n"
     ]
    },
    {
     "name": "stdout",
     "output_type": "stream",
     "text": [
      "Amount must be a number. Expense not added.\n",
      "\n",
      "Expense Tracker Menu:\n",
      "1. Add expense\n",
      "2. View expenses\n",
      "3. Track budget\n",
      "4. Save expenses\n",
      "5. Exit\n",
      "\n"
     ]
    },
    {
     "name": "stdin",
     "output_type": "stream",
     "text": [
      "Choose an option (1-5):  1\n",
      "Enter the expense date (YYYY-MM-DD):  1\n",
      "Enter the category:  1\n",
      "Enter the amount:  1\n",
      "Enter a brief description:  1\n"
     ]
    },
    {
     "name": "stdout",
     "output_type": "stream",
     "text": [
      "Expense added successfully!\n",
      "\n",
      "Expense Tracker Menu:\n",
      "1. Add expense\n",
      "2. View expenses\n",
      "3. Track budget\n",
      "4. Save expenses\n",
      "5. Exit\n",
      "\n"
     ]
    },
    {
     "name": "stdin",
     "output_type": "stream",
     "text": [
      "Choose an option (1-5):  2\n"
     ]
    },
    {
     "name": "stdout",
     "output_type": "stream",
     "text": [
      "\n",
      "All Expenses:\n",
      "1. 2024-09-18 | Food | $15.50 | Lunch with friends\n",
      "2. 2024-09-19 | Travel | $50.00 | Uber ride\n",
      "3. 2024-09-20 | Insurance | $120.00 | Car insurance payment\n",
      "4. 1 | 1 | $1.00 | 1\n",
      "5. 1 | 1 | $1.00 | 1\n",
      "\n",
      "Expense Tracker Menu:\n",
      "1. Add expense\n",
      "2. View expenses\n",
      "3. Track budget\n",
      "4. Save expenses\n",
      "5. Exit\n",
      "\n"
     ]
    },
    {
     "name": "stdin",
     "output_type": "stream",
     "text": [
      "Choose an option (1-5):  3\n"
     ]
    },
    {
     "name": "stdout",
     "output_type": "stream",
     "text": [
      "Total spent: $187.50\n",
      "You have $12.50 left for the month.\n",
      "\n",
      "Expense Tracker Menu:\n",
      "1. Add expense\n",
      "2. View expenses\n",
      "3. Track budget\n",
      "4. Save expenses\n",
      "5. Exit\n",
      "\n"
     ]
    },
    {
     "name": "stdin",
     "output_type": "stream",
     "text": [
      "Choose an option (1-5):  4\n"
     ]
    },
    {
     "name": "stdout",
     "output_type": "stream",
     "text": [
      "Expenses saved to expenses.csv!\n",
      "\n",
      "Expense Tracker Menu:\n",
      "1. Add expense\n",
      "2. View expenses\n",
      "3. Track budget\n",
      "4. Save expenses\n",
      "5. Exit\n",
      "\n"
     ]
    },
    {
     "name": "stdin",
     "output_type": "stream",
     "text": [
      "Choose an option (1-5):  45\n"
     ]
    },
    {
     "name": "stdout",
     "output_type": "stream",
     "text": [
      "Invalid option. Please choose a number from 1 to 5.\n",
      "\n",
      "Expense Tracker Menu:\n",
      "1. Add expense\n",
      "2. View expenses\n",
      "3. Track budget\n",
      "4. Save expenses\n",
      "5. Exit\n",
      "\n"
     ]
    },
    {
     "name": "stdin",
     "output_type": "stream",
     "text": [
      "Choose an option (1-5):  5\n"
     ]
    },
    {
     "name": "stdout",
     "output_type": "stream",
     "text": [
      "Expenses saved to expenses.csv!\n",
      "\n",
      "Goodbye!\n"
     ]
    }
   ],
   "source": [
    "#FINAL PROJECT SUBMISSION - PERSONAL EXPENSE TRACKER\n",
    "\n",
    "import csv\n",
    "import os\n",
    "\n",
    "#1 Define functions\n",
    "\n",
    "def save_expenses_to_csv(expenses, filename=\"expenses.csv\"):\n",
    "    fieldnames = [\"date\", \"category\", \"amount\", \"description\"]\n",
    "    with open(filename, \"w\", newline='') as csvfile:\n",
    "        writer = csv.DictWriter(csvfile, fieldnames=fieldnames)\n",
    "        writer.writeheader()\n",
    "        for expense in expenses:\n",
    "            writer.writerow(expense)\n",
    "    print(f\"Expenses saved to {filename}!\\n\")\n",
    "\n",
    "def load_expenses_from_csv(filename=\"expenses.csv\"):\n",
    "    expenses = []\n",
    "    if os.path.exists(filename):\n",
    "        with open(filename, \"r\", newline='') as csvfile:\n",
    "            reader = csv.DictReader(csvfile)\n",
    "            for row in reader:\n",
    "                try:\n",
    "                    row[\"amount\"] = float(row[\"amount\"])\n",
    "                except (ValueError, TypeError):\n",
    "                    row[\"amount\"] = None\n",
    "                expenses.append(row)\n",
    "        print(f\"Loaded {len(expenses)} expenses from {filename}.\\n\")\n",
    "    else:\n",
    "        print(\"No previous expense file found. Starting with an empty list.\\n\")\n",
    "    return expenses\n",
    "\n",
    "def add_expense(expenses):\n",
    "    date = input(\"Enter the expense date (YYYY-MM-DD): \")\n",
    "    category = input(\"Enter the category: \")\n",
    "    try:\n",
    "        amount = float(input(\"Enter the amount: \"))\n",
    "    except ValueError:\n",
    "        print(\"Amount must be a number. Expense not added.\\n\")\n",
    "        return\n",
    "    description = input(\"Enter a brief description: \")\n",
    "    expense = {\n",
    "        \"date\": date,\n",
    "        \"category\": category,\n",
    "        \"amount\": amount,\n",
    "        \"description\": description\n",
    "    }\n",
    "    expenses.append(expense)\n",
    "    print(\"Expense added successfully!\\n\")\n",
    "\n",
    "def view_expenses(expenses):\n",
    "    if not expenses:\n",
    "        print(\"No expenses to show.\\n\")\n",
    "        return\n",
    "    print(\"\\nAll Expenses:\")\n",
    "    for i, expense in enumerate(expenses, 1):\n",
    "        # Validate fields before display\n",
    "        missing = []\n",
    "        for key in [\"date\", \"category\", \"amount\", \"description\"]:\n",
    "            if not expense.get(key):\n",
    "                missing.append(key)\n",
    "        if missing:\n",
    "            print(f\"Entry {i} is missing: {', '.join(missing)}. Skipping.\")\n",
    "            continue\n",
    "        print(f\"{i}. {expense['date']} | {expense['category']} | ${expense['amount']:.2f} | {expense['description']}\")\n",
    "    print()\n",
    "\n",
    "def get_total_expenses(expenses):\n",
    "    total = 0\n",
    "    for expense in expenses:\n",
    "        amt = expense.get(\"amount\")\n",
    "        if isinstance(amt, (int, float)) and amt is not None:\n",
    "            total += amt\n",
    "    return total\n",
    "\n",
    "def check_budget_status(budget, total_expenses):\n",
    "    if total_expenses > budget:\n",
    "        print(f\"Warning: You have exceeded your monthly budget by ${total_expenses - budget:.2f}!\\n\")\n",
    "    else:\n",
    "        print(f\"You have ${budget - total_expenses:.2f} left for the month.\\n\")\n",
    "\n",
    "def display_menu():\n",
    "    print(\"Expense Tracker Menu:\")\n",
    "    print(\"1. Add expense\")\n",
    "    print(\"2. View expenses\")\n",
    "    print(\"3. Track budget\")\n",
    "    print(\"4. Save expenses\")\n",
    "    print(\"5. Exit\\n\")\n",
    "\n",
    "#2  Program setup\n",
    "expenses = load_expenses_from_csv()\n",
    "\n",
    "while True:\n",
    "    try:\n",
    "        budget = float(input(\"Enter your monthly budget: \"))\n",
    "        break\n",
    "    except ValueError:\n",
    "        print(\"Please enter a valid number for the budget.\")\n",
    "\n",
    "#3  Main menu loop\n",
    "while True:\n",
    "    display_menu()\n",
    "    choice = input(\"Choose an option (1-5): \").strip()\n",
    "\n",
    "    if choice == \"1\":\n",
    "        add_expense(expenses)\n",
    "    elif choice == \"2\":\n",
    "        view_expenses(expenses)\n",
    "    elif choice == \"3\":\n",
    "        total_spent = get_total_expenses(expenses)\n",
    "        print(f\"Total spent: ${total_spent:.2f}\")\n",
    "        check_budget_status(budget, total_spent)\n",
    "    elif choice == \"4\":\n",
    "        save_expenses_to_csv(expenses)\n",
    "    elif choice == \"5\":\n",
    "        save_expenses_to_csv(expenses)\n",
    "        print(\"Goodbye!\")\n",
    "        break\n",
    "    else:\n",
    "        print(\"Invalid option. Please choose a number from 1 to 5.\\n\")\n"
   ]
  },
  {
   "cell_type": "code",
   "execution_count": null,
   "id": "65c60cfa-ad84-4991-b5da-5756abe7575a",
   "metadata": {},
   "outputs": [],
   "source": []
  }
 ],
 "metadata": {
  "kernelspec": {
   "display_name": "Python 3 (ipykernel)",
   "language": "python",
   "name": "python3"
  },
  "language_info": {
   "codemirror_mode": {
    "name": "ipython",
    "version": 3
   },
   "file_extension": ".py",
   "mimetype": "text/x-python",
   "name": "python",
   "nbconvert_exporter": "python",
   "pygments_lexer": "ipython3",
   "version": "3.13.5"
  }
 },
 "nbformat": 4,
 "nbformat_minor": 5
}
